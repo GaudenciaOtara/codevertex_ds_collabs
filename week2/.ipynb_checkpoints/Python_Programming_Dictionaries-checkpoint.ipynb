{
 "cells": [
  {
   "cell_type": "markdown",
   "metadata": {
    "id": "eOm53BqKoYpl"
   },
   "source": [
    "<font color=\"green\">*To start working on this notebook, or any other notebook that we will use in this course, we will need to save our own copy of it. We can do this by clicking File > Save a Copy in Drive. We will then be able to make edits to our own copy of this notebook.*</font>\n",
    "\n",
    "---\n",
    "\n"
   ]
  },
  {
   "cell_type": "markdown",
   "metadata": {
    "id": "w2gnEI4V253l"
   },
   "source": [
    "# Python Programming: Dictionaries"
   ]
  },
  {
   "cell_type": "markdown",
   "metadata": {
    "id": "aEqAjTGi3E3b"
   },
   "source": [
    "## 1.0 Overview\n"
   ]
  },
  {
   "cell_type": "markdown",
   "metadata": {
    "id": "nJhH3J6y3dBD"
   },
   "source": [
    "A dictionary is a collection of key-value pairs, which are unordered, changeable and indexed. Curly brackets are used when writing a dictionary."
   ]
  },
  {
   "cell_type": "markdown",
   "metadata": {
    "id": "a90lkqj_3IZr"
   },
   "source": [
    "## 1.1 Creating a Dictionary"
   ]
  },
  {
   "cell_type": "code",
   "execution_count": 1,
   "metadata": {
    "id": "8XQMBtIU7EoL"
   },
   "outputs": [
    {
     "name": "stdout",
     "output_type": "stream",
     "text": [
      "{'name': 'Femi', 'age': 24}\n"
     ]
    }
   ],
   "source": [
    "# Example 1\n",
    "# We can create a dictionary by placing a sequence of elements within curly braces, \n",
    "# separated by commas as show in the following example.\n",
    "# Let's create a dictionary my_new_friend\n",
    "# \n",
    "my_new_friend = {\n",
    "    'name':'Femi', \n",
    "    'age': 24\n",
    "}\n",
    "\n",
    "# print \n",
    "print(my_new_friend)"
   ]
  },
  {
   "cell_type": "code",
   "execution_count": 46,
   "metadata": {
    "id": "dg_8-2YO7EE3"
   },
   "outputs": [
    {
     "name": "stdout",
     "output_type": "stream",
     "text": [
      "{'brand': 'Toyota', 'model': 'Prado', 'year': 2007}\n"
     ]
    }
   ],
   "source": [
    "# Example 2\n",
    "# Let's create another dictionary car with keys; brand, model and year\n",
    "# \n",
    "car =\t{\n",
    "  'brand': 'Toyota',\n",
    "  'model': 'Prado',\n",
    "  'year': 2007\n",
    "}\n",
    "\n",
    "# Then display it to see what the dictionary contains\n",
    "print(car)"
   ]
  },
  {
   "cell_type": "code",
   "execution_count": 3,
   "metadata": {
    "id": "KiVcQaXH7D0R"
   },
   "outputs": [
    {
     "name": "stdout",
     "output_type": "stream",
     "text": [
      "{'Name': '7 East', 'Students': 27, 'Wing': 'East'}\n"
     ]
    }
   ],
   "source": [
    "# Example 3\n",
    "# Let's create another dictionary\n",
    "#\n",
    "our_class = {\n",
    "    'Name': '7 East', \n",
    "    'Students': 27, \n",
    "    'Wing': 'East'\n",
    "}\n",
    "\n",
    "# printing out our_class\n",
    "print(our_class)"
   ]
  },
  {
   "cell_type": "markdown",
   "metadata": {
    "id": "49K6mQJg7yUh"
   },
   "source": [
    "### 1.1 Challenges"
   ]
  },
  {
   "cell_type": "code",
   "execution_count": 4,
   "metadata": {
    "id": "v5e2By6E76hW"
   },
   "outputs": [
    {
     "name": "stdout",
     "output_type": "stream",
     "text": [
      "{'Mother': 'Mary', 'Father': 'Peter', 'Son': 'Leviticus', 'Daughter': 'Lily'}\n"
     ]
    }
   ],
   "source": [
    "# Challenge 1\n",
    "# Create a dictionary family with keys i.e. father,\n",
    "# mother, son and daughter. You can add values of your family\n",
    "# to the key values\n",
    "\n",
    "myfamily={\n",
    "    'Mother':'Mary',\n",
    "    'Father':'Peter',\n",
    "    'Son':'Leviticus',\n",
    "    'Daughter':'Lily'\n",
    "}\n",
    "\n",
    "print(myfamily)"
   ]
  },
  {
   "cell_type": "code",
   "execution_count": 5,
   "metadata": {
    "id": "tpBdeH5275i9"
   },
   "outputs": [
    {
     "name": "stdout",
     "output_type": "stream",
     "text": [
      "{1: 1, 2: 4, 3: 9, 4: 16, 5: 25}\n"
     ]
    }
   ],
   "source": [
    "# Challenge 2\n",
    "# Create a dictionary name powers_dictionary using numbers 1-5 as keys \n",
    "# and their square power as values.  \n",
    "#\n",
    "powers_dictionary={\n",
    "    1:(1**2),\n",
    "    2:(2**2),\n",
    "    3:(3**2),\n",
    "    4:(4**2),\n",
    "    5:(5**2)\n",
    "}\n",
    "\n",
    "print(powers_dictionary)"
   ]
  },
  {
   "cell_type": "code",
   "execution_count": 6,
   "metadata": {
    "id": "yf9bGNKEKsFF"
   },
   "outputs": [
    {
     "name": "stdout",
     "output_type": "stream",
     "text": [
      "{'bronze package': {'starch': 'rice', 'stew': 'chicken curry', 'vegetable': 'cabbages', 'desert': 'melon'}, 'silver package': {'starch': 'rice,chappati', 'stew': 'beef curry', 'vegetable': 'spinach', 'desert': 'melon,bananas'}, 'gold package': {'starch': 'rice,chappati,mukimo', 'stew': 'beef curry', 'vegetable': 'spinach,managu', 'desert': 'tart'}}\n"
     ]
    }
   ],
   "source": [
    "# Challenge 3\n",
    "# A caterer offers three different food packages; \n",
    "# bronze package: starch:rice stew:chicken curry vegetable:cabbages desert:melon\n",
    "# silver package: starch:rice and chappati  stew:beef curry vegetable:spinach desert:melon and bananas\n",
    "# gold package: starch:rice, chappati and mukimo stew: beef curry vegetable:spinach and managu desert: tart\n",
    "# Create a dictionary that stores the above information then preview it\n",
    "# Hint: You can store a dictionary within a dictionary \n",
    "# \n",
    "food_packages={\n",
    "    \"bronze package\": {\"starch\":\"rice\",\"stew\":\"chicken curry\", \"vegetable\":\"cabbages\", \"desert\":\"melon\"},\n",
    "    \"silver package\": {\"starch\":\"rice,chappati\",  \"stew\":\"beef curry\" ,\"vegetable\":\"spinach\", \"desert\":\"melon,bananas\"},\n",
    "    \"gold package\": {\"starch\":\"rice,chappati,mukimo\", \"stew\": \"beef curry\", \"vegetable\":\"spinach,managu\", \"desert\": \"tart\"}\n",
    "}\n",
    "\n",
    "print(food_packages)"
   ]
  },
  {
   "cell_type": "markdown",
   "metadata": {
    "id": "UU3YIJYI3gwc"
   },
   "source": [
    "## 1.2 Adding Elements to a Dictionary"
   ]
  },
  {
   "cell_type": "code",
   "execution_count": 7,
   "metadata": {
    "id": "t-dKvalj7F44"
   },
   "outputs": [
    {
     "name": "stdout",
     "output_type": "stream",
     "text": [
      "{'name': 'Femi', 'age': 24, 'residence': 'Nairobi'}\n"
     ]
    }
   ],
   "source": [
    "# Example 1 \n",
    "# Adding a residence to my_new_friend dictionary that we had initially created\n",
    "# \n",
    "my_new_friend['residence'] = 'Nairobi'  \n",
    "\n",
    "# print out my_new_friend\n",
    "print(my_new_friend)"
   ]
  },
  {
   "cell_type": "code",
   "execution_count": 8,
   "metadata": {
    "id": "FsS9Ns-b7FnE"
   },
   "outputs": [
    {
     "name": "stdout",
     "output_type": "stream",
     "text": [
      "{'brand': 'Toyota', 'model': 'Prado', 'year': 2007, 'color': 'light gray'}\n"
     ]
    }
   ],
   "source": [
    "# Example 2\n",
    "# We now add color to our car dictionary\n",
    "#\n",
    "car[\"color\"] = \"light gray\"\n",
    "\n",
    "# and print out our dictionary\n",
    "print(car)"
   ]
  },
  {
   "cell_type": "code",
   "execution_count": 9,
   "metadata": {
    "id": "GFY3EYiO7FcZ"
   },
   "outputs": [
    {
     "name": "stdout",
     "output_type": "stream",
     "text": [
      "{'Name': '7 East', 'Students': 27, 'Wing': 'East', 'School': 'Moringa School'}\n"
     ]
    }
   ],
   "source": [
    "# Example 3\n",
    "# Adding the school to the dictionary\n",
    "#\n",
    "our_class['School'] = \"Moringa School\";\n",
    "\n",
    "# printing out our class to see the updates\n",
    "print(our_class)"
   ]
  },
  {
   "cell_type": "markdown",
   "metadata": {
    "id": "7tzKw6l87-5h"
   },
   "source": [
    "### 1.2 Challenges"
   ]
  },
  {
   "cell_type": "code",
   "execution_count": 10,
   "metadata": {
    "id": "jqbEx0BU8EL4"
   },
   "outputs": [
    {
     "name": "stdout",
     "output_type": "stream",
     "text": [
      "Enter the number of bread: 9\n",
      "Enter the number of packets of milk: 9\n",
      "The total quantity of your bread is 3600 grams\n",
      " The total quantity of your milk is 4.5 litres\n",
      "{1: {'Item': 'Bread', 'Quantity(grams)': 3600}, 2: {'Item': 'Milk', 'Quantity (litres)': 4.5}}\n",
      "Enter 0 to exit or any other key to continue: 0\n",
      "Exited the order system!\n"
     ]
    }
   ],
   "source": [
    "# Challenge 1: \n",
    "# Naivas Supermarket sells two products: bread and milk. \n",
    "# A loaf of bread weighs 400 grams. Each packet of milk is 0.5 litre. \n",
    "# Write a program that reads the number of bread \n",
    "# and the number of packets of milk in an order from the user. \n",
    "# Then your program should compute and display the total quantity of the order.\n",
    "# You should store the order in the dictionary and \n",
    "# prompt the user for another input.\n",
    "# \n",
    "bread=400\n",
    "milk=0.5\n",
    "\n",
    "\n",
    "def user_order(bread,milk):\n",
    "    n_bread=int(input(\"Enter the number of bread: \"))\n",
    "    n_milk=int(input(\"Enter the number of packets of milk: \"))\n",
    "\n",
    "    q_bread=n_bread*bread\n",
    "    q_milk=n_milk*milk\n",
    "\n",
    "    print(f'The total quantity of your bread is {q_bread} grams')\n",
    "    print(f' The total quantity of your milk is {q_milk} litres')\n",
    "    \n",
    "    Naivas_Items={}\n",
    "    order_number=1\n",
    "\n",
    "    def adding_orders(Naivas_Items,order_number,q_bread,q_milk): \n",
    "        Naivas_Items[order_number]={'Item':'Bread', 'Quantity(grams)':q_bread}\n",
    "        order_number+=1\n",
    "        Naivas_Items[order_number]={'Item':'Milk', 'Quantity (litres)':q_milk}\n",
    "        order_number+=1\n",
    "        print(Naivas_Items)\n",
    "    \n",
    "    adding_orders(Naivas_Items,order_number,q_bread,q_milk)\n",
    "\n",
    "\n",
    "while True:\n",
    "    \n",
    "    user_order(bread,milk)\n",
    "    \n",
    "    exit_input=input(\"Enter 0 to exit or any other key to continue: \")\n",
    "    if exit_input==\"0\":\n",
    "        print(\"Exited the order system!\")\n",
    "        break\n"
   ]
  },
  {
   "cell_type": "code",
   "execution_count": 50,
   "metadata": {
    "id": "gQTOkgy2kgLT"
   },
   "outputs": [
    {
     "name": "stdout",
     "output_type": "stream",
     "text": [
      "Enter the first word: live\n",
      "Enter the second word: vile\n",
      "\"live\" and \"vile\" are anagrams!\n",
      "Anagram Dictionary:  {'live': '\"live\" and \"vile\" are anagrams!', 'vile': '\"live\" and \"vile\" are anagrams!'}\n"
     ]
    }
   ],
   "source": [
    "# Challenge 2:\n",
    "# Two words are anagrams if they contain all of the same letters, \n",
    "# but in a different order. For example, “evil” and “live” \n",
    "# are anagrams because each contains one e, one i, one l, and one v. \n",
    "# Create a program that reads two strings from the user, determines\n",
    "# whether or not they are anagrams, stores and reports the result.\n",
    "# Use a dictionary to solve this problem.\n",
    "# \n",
    "word1_dict = {}\n",
    "word2_dict = {}\n",
    "anagram_dict = {}\n",
    "\n",
    "def check_anagram(word1, word2, word1_dict, word2_dict):\n",
    "    for letter in word1:\n",
    "        if letter in word1_dict:\n",
    "            word1_dict[letter] += 1\n",
    "        else:\n",
    "            word1_dict[letter] = 1\n",
    "    \n",
    "    for letter in word2:\n",
    "        if letter in word2_dict:\n",
    "            word2_dict[letter] += 1\n",
    "        else:\n",
    "            word2_dict[letter] = 1\n",
    "\n",
    "    if word1_dict == word2_dict:\n",
    "        return True\n",
    "    else:\n",
    "        return False\n",
    "\n",
    "word1 = input(\"Enter the first word: \").lower().strip()\n",
    "word2 = input(\"Enter the second word: \").lower().strip()\n",
    "\n",
    "if check_anagram(word1, word2, word1_dict, word2_dict):\n",
    "    result = f'\"{word1}\" and \"{word2}\" are anagrams!'\n",
    "else:\n",
    "    result = f'\"{word1}\" and \"{word2}\" are not anagrams.'\n",
    "\n",
    "anagram_dict[word1] = result\n",
    "anagram_dict[word2] = result\n",
    "\n",
    "print(result)\n",
    "print(\"Anagram Dictionary: \", anagram_dict)\n"
   ]
  },
  {
   "cell_type": "code",
   "execution_count": 14,
   "metadata": {
    "id": "3pcE1f56f87G"
   },
   "outputs": [
    {
     "name": "stdout",
     "output_type": "stream",
     "text": [
      "Enter your string: How many students are there?\n",
      "{'How many students are there?': 28}\n"
     ]
    }
   ],
   "source": [
    "# Challenge 3:\n",
    "# Create a program that determines and displays \n",
    "# the number of characters in a string entered by the user. \n",
    "# For example, \"Hello, World!\" has 13  characters while \n",
    "# abc has only three character. \n",
    "# Use a dictionary to solve this problem.\n",
    "\n",
    "def string_lengths():\n",
    "    \n",
    "    user_string=str(input(\"Enter your string: \"))\n",
    "    \n",
    "    string_dictionary={}\n",
    "\n",
    "    string_dictionary[user_string]=len(user_string)\n",
    "\n",
    "    print(string_dictionary)\n",
    "    \n",
    "    \n",
    "\n",
    "string_lengths()"
   ]
  },
  {
   "cell_type": "markdown",
   "metadata": {
    "id": "hzmMe5TP32ra"
   },
   "source": [
    "## 1.3 Updating Elements in a Dictionary"
   ]
  },
  {
   "cell_type": "code",
   "execution_count": 15,
   "metadata": {
    "id": "J66GyFzt7I_X"
   },
   "outputs": [
    {
     "name": "stdout",
     "output_type": "stream",
     "text": [
      "{'name': 'Femi', 'age': 24, 'residence': 'Nairobi'}\n"
     ]
    }
   ],
   "source": [
    "# Example 1\n",
    "# Let's update age on the dictionary my_new_friend \n",
    "#\n",
    "my_new_friend['age'] = 24\n",
    "\n",
    "# print out\n",
    "print(my_new_friend)"
   ]
  },
  {
   "cell_type": "code",
   "execution_count": 16,
   "metadata": {
    "id": "zhJabm-I7Jr4"
   },
   "outputs": [
    {
     "name": "stdout",
     "output_type": "stream",
     "text": [
      "{'brand': 'Toyota', 'model': 'Prado', 'year': 2007, 'color': 'light gray'}\n"
     ]
    }
   ],
   "source": [
    "# Example 2\n",
    "# Let's update our dictionary my_new_friend\n",
    "#\n",
    "car[\"color\"] = \"light gray\"\n",
    "\n",
    "# and print out our dictionary\n",
    "print(car)"
   ]
  },
  {
   "cell_type": "code",
   "execution_count": 17,
   "metadata": {
    "id": "PbbAVPsO7JfJ"
   },
   "outputs": [
    {
     "name": "stdout",
     "output_type": "stream",
     "text": [
      "{'Name': '7 East', 'Students': 29, 'Wing': 'East', 'School': 'Moringa School'}\n"
     ]
    }
   ],
   "source": [
    "# Example 3\n",
    "# Updating our class \n",
    "#\n",
    "our_class['Students'] = 29;\n",
    "\n",
    "# printing out our class to see the updates\n",
    "print(our_class)"
   ]
  },
  {
   "cell_type": "markdown",
   "metadata": {
    "id": "Hp9Jaf8V8PE1"
   },
   "source": [
    "### 1.3 Challenges"
   ]
  },
  {
   "cell_type": "code",
   "execution_count": 18,
   "metadata": {
    "id": "LcK4RI6K8Qrp"
   },
   "outputs": [
    {
     "name": "stdout",
     "output_type": "stream",
     "text": [
      "{'Mother': 'Mary', 'Father': 'Peter', 'Son': 'Isaiah', 'Daughter': 'Miriam'}\n"
     ]
    }
   ],
   "source": [
    "# Challenge 1\n",
    "# Let's update the value of the son and daughter keys of the family dictionary \n",
    "# that we had earlier on created\n",
    "#\n",
    "myfamily['Daughter']='Miriam'\n",
    "myfamily['Son']='Isaiah'\n",
    "\n",
    "print(myfamily)"
   ]
  },
  {
   "cell_type": "code",
   "execution_count": 19,
   "metadata": {
    "id": "EEU_gZax8RN6"
   },
   "outputs": [
    {
     "name": "stdout",
     "output_type": "stream",
     "text": [
      "{'bronze package': {'starch': 'rice', 'stew': 'chicken curry', 'vegetable': 'cabbages', 'desert': 'melon'}, 'silver package': {'starch': 'rice,chappati', 'stew': 'beef curry', 'vegetable': 'spinach', 'desert': 'melon,bananas'}, 'gold package': {'starch': 'rice,chappati,mukimo', 'stew': 'beef curry', 'vegetable': 'spinach, cabbage, managu', 'desert': 'tart'}}\n"
     ]
    }
   ],
   "source": [
    "# Challenge 2\n",
    "# Update value of the gold package in the caterer dictionary to \n",
    "# have vegetable as spinach, cabbage and managu\n",
    "\n",
    "food_packages['gold package']['vegetable']='spinach, cabbage, managu'\n",
    "print(food_packages)"
   ]
  },
  {
   "cell_type": "code",
   "execution_count": 55,
   "metadata": {
    "id": "jMEwHQI18RCX"
   },
   "outputs": [
    {
     "name": "stdout",
     "output_type": "stream",
     "text": [
      "Do you want to (1) Place a new order, (2) Update an existing order, or (3) Exit? 1\n",
      "Enter the number of bread: 2\n",
      "Enter the number of packets of milk: 4\n",
      "The total quantity of your bread is 800 grams\n",
      "The total quantity of your milk is 2.0 litres\n",
      "Current Order Summary:\n",
      "{1: {'Item': 'Bread', 'Quantity(grams)': 800}, 2: {'Item': 'Milk', 'Quantity(litres)': 2.0}}\n",
      "Do you want to (1) Place a new order, (2) Update an existing order, or (3) Exit? 5\n",
      "Invalid choice. Please select a valid option.\n",
      "Do you want to (1) Place a new order, (2) Update an existing order, or (3) Exit? 1\n",
      "Enter the number of bread: 2\n",
      "Enter the number of packets of milk: 4\n",
      "The total quantity of your bread is 800 grams\n",
      "The total quantity of your milk is 2.0 litres\n",
      "Current Order Summary:\n",
      "{1: {'Item': 'Bread', 'Quantity(grams)': 800}, 2: {'Item': 'Milk', 'Quantity(litres)': 2.0}, 3: {'Item': 'Bread', 'Quantity(grams)': 800}, 4: {'Item': 'Milk', 'Quantity(litres)': 2.0}}\n",
      "Do you want to (1) Place a new order, (2) Update an existing order, or (3) Exit? 2\n",
      "Current Orders:\n",
      "Order 1: Bread - 800\n",
      "Order 2: Milk - 2.0\n",
      "Order 3: Bread - 800\n",
      "Order 4: Milk - 2.0\n",
      "Enter the order number to update: 3\n",
      "Enter the new quantity of bread: 6\n",
      "Updated Order Summary:\n",
      "{1: {'Item': 'Bread', 'Quantity(grams)': 800}, 2: {'Item': 'Milk', 'Quantity(litres)': 2.0}, 3: {'Item': 'Bread', 'Quantity(grams)': 2400}, 4: {'Item': 'Milk', 'Quantity(litres)': 2.0}}\n",
      "Do you want to (1) Place a new order, (2) Update an existing order, or (3) Exit? 3\n",
      "Exited the order system!\n"
     ]
    }
   ],
   "source": [
    "# Challenge 3\n",
    "# Upon creating the Naivas supermarket dictionary program earlier on,\n",
    "# We will now extend the functionality of your program to be able to also update\n",
    "# the quantity of either the bread or packet of milk.\n",
    "# Write another program the will prompt the user to indicate whether they want\n",
    "# to update the quantity of the product or compute the total quantity of the total order.\n",
    "# Using if statements, your program should execute either to the code you had earlier\n",
    "# on written or to the new code for updating that you will now write\n",
    "#\n",
    "# Challenge 1: \n",
    "# Naivas Supermarket sells two products: bread and milk. \n",
    "# A loaf of bread weighs 400 grams. Each packet of milk is 0.5 litre. \n",
    "# Write a program that reads the number of bread \n",
    "# and the number of packets of milk in an order from the user. \n",
    "# Then your program should compute and display the total quantity of the order.\n",
    "# You should store the order in the dictionary and \n",
    "# prompt the user for another input.\n",
    "# \n",
    "bread = 400\n",
    "milk = 0.5\n",
    "\n",
    "Naivas_Items = {}\n",
    "order_number = 1\n",
    "\n",
    "def user_order(order_number, Naivas_Items, bread, milk):\n",
    "    n_bread = int(input(\"Enter the number of bread: \"))\n",
    "    n_milk = int(input(\"Enter the number of packets of milk: \"))\n",
    "\n",
    "    q_bread = n_bread * bread\n",
    "    q_milk = n_milk * milk\n",
    "\n",
    "    print(f'The total quantity of your bread is {q_bread} grams')\n",
    "    print(f'The total quantity of your milk is {q_milk} litres')\n",
    "\n",
    "    Naivas_Items[order_number] = {'Item': 'Bread', 'Quantity(grams)': q_bread}\n",
    "    order_number += 1\n",
    "    Naivas_Items[order_number] = {'Item': 'Milk', 'Quantity(litres)': q_milk}\n",
    "    order_number += 1\n",
    "\n",
    "    print(\"Current Order Summary:\")\n",
    "    print(Naivas_Items)\n",
    "    \n",
    "    return Naivas_Items, order_number\n",
    "\n",
    "def update_order(Naivas_Items):\n",
    "    if not Naivas_Items:\n",
    "        print(\"There are no orders to update.\")\n",
    "        return Naivas_Items\n",
    "    \n",
    "    print(\"Current Orders:\")\n",
    "    for order_id, details in Naivas_Items.items():\n",
    "        print(f\"Order {order_id}: {details['Item']} - {details.get('Quantity(grams)', details.get('Quantity(litres)', ''))}\")\n",
    "    \n",
    "    order_id = int(input(\"Enter the order number to update: \"))\n",
    "    \n",
    "    if order_id in Naivas_Items:\n",
    "        product = Naivas_Items[order_id]['Item'].lower()\n",
    "        if product == 'bread':\n",
    "            new_quantity = int(input(\"Enter the new quantity of bread: \"))\n",
    "            Naivas_Items[order_id]['Quantity(grams)'] = new_quantity * bread\n",
    "        elif product == 'milk':\n",
    "            new_quantity = int(input(\"Enter the new quantity of milk: \"))\n",
    "            Naivas_Items[order_id]['Quantity(litres)'] = new_quantity * milk\n",
    "        else:\n",
    "            print(\"Product not found in this order.\")\n",
    "        print(\"Updated Order Summary:\")\n",
    "        print(Naivas_Items)\n",
    "    else:\n",
    "        print(\"Invalid order number. Please try again.\")\n",
    "    \n",
    "    return Naivas_Items\n",
    "\n",
    "while True:\n",
    "    action = input(\"Do you want to (1) Place a new order, (2) Update an existing order, or (3) Exit? \")\n",
    "\n",
    "    if action == \"1\":\n",
    "        Naivas_Items, order_number = user_order(order_number, Naivas_Items, bread, milk)\n",
    "    elif action == \"2\":\n",
    "        Naivas_Items = update_order(Naivas_Items)\n",
    "    elif action == \"3\":\n",
    "        print(\"Exited the order system!\")\n",
    "        break\n",
    "    else:\n",
    "        print(\"Invalid choice. Please select a valid option.\")\n",
    "\n"
   ]
  },
  {
   "cell_type": "markdown",
   "metadata": {
    "id": "50S5D_qI3kDD"
   },
   "source": [
    "## 1.4 Accessing Elements from a Dictionary"
   ]
  },
  {
   "cell_type": "code",
   "execution_count": 22,
   "metadata": {
    "id": "ZBJa2FHU7Muf"
   },
   "outputs": [
    {
     "name": "stdout",
     "output_type": "stream",
     "text": [
      "Femi\n",
      "Femi\n"
     ]
    }
   ],
   "source": [
    "# Example 1\n",
    "# Accessing my_new_friend dictionary \n",
    "#\n",
    "name_a = my_new_friend[\"name\"]\n",
    "\n",
    "# print name_a\n",
    "print(name_a)\n",
    "\n",
    "# or we could also\n",
    "name_b = my_new_friend.get(\"name\")\n",
    "\n",
    "# print name_b\n",
    "print(name_b)"
   ]
  },
  {
   "cell_type": "code",
   "execution_count": 23,
   "metadata": {
    "id": "A8ggbH347NPz"
   },
   "outputs": [
    {
     "name": "stdout",
     "output_type": "stream",
     "text": [
      "Prado\n",
      "Prado\n"
     ]
    }
   ],
   "source": [
    "# Example 2\n",
    "# Accessing the model in the car dictionary\n",
    "#\n",
    "car_a = car[\"model\"]\n",
    "\n",
    "# print car_a\n",
    "print(car_a)\n",
    "\n",
    "# or we could also\n",
    "car_b = car.get(\"model\")\n",
    "\n",
    "# print name_b\n",
    "print(car_b)"
   ]
  },
  {
   "cell_type": "code",
   "execution_count": 24,
   "metadata": {
    "id": "eaZxBKDf7NF4"
   },
   "outputs": [
    {
     "name": "stdout",
     "output_type": "stream",
     "text": [
      "7 East\n"
     ]
    }
   ],
   "source": [
    "# Example 3\n",
    "# Accessing the name in our_class dictionary\n",
    "#\n",
    "our_class_a = our_class[\"Name\"]\n",
    "\n",
    "# or we could also\n",
    "our_class_b = our_class.get(\"Name\")\n",
    "\n",
    "# print our_class_b \n",
    "print(our_class_b)"
   ]
  },
  {
   "cell_type": "markdown",
   "metadata": {
    "id": "mqnSUp-a8I65"
   },
   "source": [
    "### 1.4 Challenges"
   ]
  },
  {
   "cell_type": "code",
   "execution_count": 25,
   "metadata": {
    "id": "uE_DKh_N8XMj"
   },
   "outputs": [
    {
     "name": "stdout",
     "output_type": "stream",
     "text": [
      "{1: 1, 2: 4, 3: 9, 4: 16, 5: 25}\n",
      "16\n"
     ]
    }
   ],
   "source": [
    "# Challenge 1\n",
    "# What is the power of 4 from the powers_dictionary\n",
    "# \n",
    "print(powers_dictionary)\n",
    "\n",
    "power_4=powers_dictionary.get(4)\n",
    "print(power_4)"
   ]
  },
  {
   "cell_type": "code",
   "execution_count": 26,
   "metadata": {
    "id": "dt-ZmzrQ8YIM"
   },
   "outputs": [
    {
     "name": "stdout",
     "output_type": "stream",
     "text": [
      "{'starch': 'rice,chappati', 'stew': 'beef curry', 'vegetable': 'spinach', 'desert': 'melon,bananas'}\n"
     ]
    }
   ],
   "source": [
    "# Challenge 2\n",
    "# Let's access the silver package from our caterer dictionary\n",
    "#\n",
    "silver_p=food_packages.get(\"silver package\")\n",
    "print(silver_p)"
   ]
  },
  {
   "cell_type": "code",
   "execution_count": 27,
   "metadata": {
    "id": "xLEaTJdY8X4t"
   },
   "outputs": [
    {
     "name": "stdout",
     "output_type": "stream",
     "text": [
      "Peter\n"
     ]
    }
   ],
   "source": [
    "# Challenge 3\n",
    "# Access the name of the father from the family dictionary\n",
    "# \n",
    "father_f=myfamily.get(\"Father\")\n",
    "print(father_f)"
   ]
  },
  {
   "cell_type": "markdown",
   "metadata": {
    "id": "Amb1Bsrbwx6C"
   },
   "source": [
    "## 1.5 Checking if a Key exists"
   ]
  },
  {
   "cell_type": "code",
   "execution_count": 28,
   "metadata": {
    "id": "bcY3c6DHwwu2"
   },
   "outputs": [
    {
     "name": "stdout",
     "output_type": "stream",
     "text": [
      "Yes, the keyword exists in the dictionary\n"
     ]
    }
   ],
   "source": [
    "# Example 1\n",
    "# We can check if a specified key exists within a dictionary through the use of the `in` keyword;\n",
    "# Let's check if the keyword residence exists in my_new_friend dictionary\n",
    "# \n",
    "if \"residence\" in my_new_friend:\n",
    "  print(\"Yes, the keyword exists in the dictionary\")\n",
    "else:\n",
    "  print('No, the keyword does not exist in the dictionary')"
   ]
  },
  {
   "cell_type": "code",
   "execution_count": 29,
   "metadata": {
    "id": "KJYTGPMKw52k"
   },
   "outputs": [
    {
     "name": "stdout",
     "output_type": "stream",
     "text": [
      "Yes, the keyword exists in the dictionary\n"
     ]
    }
   ],
   "source": [
    "# Example 2\n",
    "# Let's check if the keyword year exists in car dictionary\n",
    "#\n",
    "if \"year\" in car:\n",
    "  print(\"Yes, the keyword exists in the dictionary\")\n",
    "else:\n",
    "  print('No, the keyword does not exist in the dictionary')"
   ]
  },
  {
   "cell_type": "code",
   "execution_count": 30,
   "metadata": {
    "id": "U0sTioBMw5tU"
   },
   "outputs": [
    {
     "name": "stdout",
     "output_type": "stream",
     "text": [
      "Yes, the keyword exists in the dictionary\n"
     ]
    }
   ],
   "source": [
    "# Example 3\n",
    "# Checking if the keyword Wing exists in our_class dictionary\n",
    "#\n",
    "if \"Wing\" in our_class:\n",
    "  print(\"Yes, the keyword exists in the dictionary\")\n",
    "else:\n",
    "  print('No, the keyword does not exist in the dictionary')"
   ]
  },
  {
   "cell_type": "markdown",
   "metadata": {
    "id": "1OFB5fL1w6TM"
   },
   "source": [
    "### 1.5 Challenges"
   ]
  },
  {
   "cell_type": "code",
   "execution_count": 31,
   "metadata": {
    "id": "oUCqFuf_w--X"
   },
   "outputs": [
    {
     "name": "stdout",
     "output_type": "stream",
     "text": [
      "Yes the keyword model exists in the dictionary\n"
     ]
    }
   ],
   "source": [
    "# Challenge 1\n",
    "# Does the model key exist in our car dictionary?\n",
    "#\n",
    "if \"model\" in car:\n",
    "    print(\"Yes the keyword model exists in the dictionary\")\n",
    "else:\n",
    "    print(\"The keyword does not exist in the dictionary\")"
   ]
  },
  {
   "cell_type": "code",
   "execution_count": 32,
   "metadata": {
    "id": "y2KKTbcmw_jK"
   },
   "outputs": [
    {
     "name": "stdout",
     "output_type": "stream",
     "text": [
      "There is no such key value in the dictionary\n"
     ]
    }
   ],
   "source": [
    "# Challenge 2\n",
    "# Does te\n",
    "# Let's get the power of 6 from our already created powers dictionary\n",
    "#\n",
    "power_6=powers_dictionary.get(6)\n",
    "\n",
    "if power_6 in powers_dictionary:\n",
    "    print(power_6)\n",
    "else:\n",
    "    print(\"There is no such key value in the dictionary\")"
   ]
  },
  {
   "cell_type": "code",
   "execution_count": 33,
   "metadata": {
    "id": "bGck3KPGw_HE"
   },
   "outputs": [
    {
     "name": "stdout",
     "output_type": "stream",
     "text": [
      "Sorry! There is no such package in the dictionary\n"
     ]
    }
   ],
   "source": [
    "# Challenge 3\n",
    "# Let's find out if the diamond package exists in the caterer package\n",
    "#\n",
    "\n",
    "if \"diamond\" in food_packages:\n",
    "    print(\"Yes! the diamond package is in the dictionary\")\n",
    "else:\n",
    "    print(\"Sorry! There is no such package in the dictionary\")"
   ]
  },
  {
   "cell_type": "markdown",
   "metadata": {
    "id": "GDrqXhcWzs6s"
   },
   "source": [
    "## 1.6 The No. of elements in a Dictionary"
   ]
  },
  {
   "cell_type": "code",
   "execution_count": 34,
   "metadata": {
    "id": "mQMc9N3TzvUA"
   },
   "outputs": [
    {
     "name": "stdout",
     "output_type": "stream",
     "text": [
      "3\n"
     ]
    }
   ],
   "source": [
    "# Example 1\n",
    "# We can use keyword `len()` to determine how many items (key - value pairs) there are in the dictionary.\n",
    "# Finding out how many items there are in the my_new_friend dictionary\n",
    "#\n",
    "print(len(my_new_friend))"
   ]
  },
  {
   "cell_type": "code",
   "execution_count": 35,
   "metadata": {
    "id": "YJbVoIfzzvkC"
   },
   "outputs": [
    {
     "name": "stdout",
     "output_type": "stream",
     "text": [
      "4\n"
     ]
    }
   ],
   "source": [
    "# Example 2\n",
    "# Finding out how many items there are in the car dictionary\n",
    "#\n",
    "print(len(car))"
   ]
  },
  {
   "cell_type": "code",
   "execution_count": 36,
   "metadata": {
    "id": "ubNhcSttz050"
   },
   "outputs": [
    {
     "name": "stdout",
     "output_type": "stream",
     "text": [
      "4\n"
     ]
    }
   ],
   "source": [
    "# Example 3\n",
    "# Finding out how many items there are in the our_class dictionary\n",
    "#\n",
    "print(len(our_class))"
   ]
  },
  {
   "cell_type": "markdown",
   "metadata": {
    "id": "zN0YcqMmzwGU"
   },
   "source": [
    "### 1.6 Challenges"
   ]
  },
  {
   "cell_type": "code",
   "execution_count": 37,
   "metadata": {
    "id": "9SWkSQvnz2bh"
   },
   "outputs": [
    {
     "name": "stdout",
     "output_type": "stream",
     "text": [
      "4\n"
     ]
    }
   ],
   "source": [
    "# Challenge 1\n",
    "# Using the family dictionary, let's determine how many family members there are in the family?\n",
    "#\n",
    "print(len(myfamily))"
   ]
  },
  {
   "cell_type": "code",
   "execution_count": 51,
   "metadata": {
    "id": "GKXla2_Qz2Lx"
   },
   "outputs": [
    {
     "name": "stdout",
     "output_type": "stream",
     "text": [
      "2\n"
     ]
    }
   ],
   "source": [
    "# Challenge 2\n",
    "# How many items have we stored in our anagrams dictionary?\n",
    "# \n",
    "print(len(anagram_dict))"
   ]
  },
  {
   "cell_type": "code",
   "execution_count": 52,
   "metadata": {
    "id": "y1Yc0df-z2AG"
   },
   "outputs": [
    {
     "name": "stdout",
     "output_type": "stream",
     "text": [
      "4\n"
     ]
    }
   ],
   "source": [
    "# Challange 3\n",
    "# Using the cater dictionary, how many meals do we have in our gold package? \n",
    "# \n",
    "\n",
    "print(len(food_packages[\"gold package\"]))"
   ]
  },
  {
   "cell_type": "markdown",
   "metadata": {
    "id": "t3HfcEjn306L"
   },
   "source": [
    "## 1.7 Removing Elements from a Dictionary"
   ]
  },
  {
   "cell_type": "code",
   "execution_count": 43,
   "metadata": {
    "id": "g9zlKoiL7PaV"
   },
   "outputs": [
    {
     "name": "stdout",
     "output_type": "stream",
     "text": [
      "{'name': 'Femi', 'residence': 'Nairobi'}\n",
      "{}\n"
     ]
    }
   ],
   "source": [
    "# Example 1\n",
    "# We can remove a specific item from the dictionary \n",
    "# with the specified key name using the pop() method. \n",
    "# The clear() method clears the items in the dictionary \n",
    "# while the del keyword deletes the dictionary completely.\n",
    "\n",
    "\n",
    "my_new_friend[\"age\"] = 25\n",
    "\n",
    "# Removing age from my_new_friend dictionary\n",
    "updated_my_new_friend = my_new_friend.pop(\"age\")\n",
    "\n",
    "# printing out the updated dictionary\n",
    "print(my_new_friend)\n",
    "\n",
    "# now clearing the dictionary \n",
    "my_new_friend.clear()\n",
    "\n",
    "# printing out the cleared dictionary\n",
    "print(my_new_friend)\n",
    "\n",
    "# deleting the dictionary completely\n",
    "del updated_my_new_friend\n"
   ]
  },
  {
   "cell_type": "code",
   "execution_count": 47,
   "metadata": {
    "id": "JAKiQ6y97PMq"
   },
   "outputs": [
    {
     "name": "stdout",
     "output_type": "stream",
     "text": [
      "Prado\n",
      "Prado\n"
     ]
    }
   ],
   "source": [
    "# Example 2\n",
    "# Removing model from car dictionary\n",
    "\n",
    "# using the pop method\n",
    "updated_car = car.pop(\"model\")\n",
    "\n",
    "# printing out the updated car dictionary\n",
    "print(updated_car)\n",
    "\n",
    "# now clearing the dictionary \n",
    "car.clear()\n",
    "\n",
    "# printing out the cleared dictionary\n",
    "print(updated_car)\n",
    "\n",
    "# deleting the dictionary completely\n",
    "del updated_car"
   ]
  },
  {
   "cell_type": "code",
   "execution_count": 48,
   "metadata": {
    "id": "hJDrF-_i7OzG"
   },
   "outputs": [
    {
     "name": "stdout",
     "output_type": "stream",
     "text": [
      "{'Name': '7 East', 'Students': 29, 'Wing': 'East'}\n",
      "{}\n"
     ]
    }
   ],
   "source": [
    "# Example 3\n",
    "# Removing School from our_class dictionary\n",
    "\n",
    "# using the pop method\n",
    "our_class.pop(\"School\")\n",
    "\n",
    "# printing out the updated our_class dictionary\n",
    "print(our_class)\n",
    "\n",
    "# now clearing the dictionary \n",
    "our_class.clear()\n",
    "\n",
    "# printing out the cleared dictionary\n",
    "print(our_class)\n",
    "\n",
    "# deleting the dictionary completely\n",
    "del our_class"
   ]
  },
  {
   "cell_type": "markdown",
   "metadata": {
    "id": "ZSQ6Uyb98jUU"
   },
   "source": [
    "### Challenges 1.7"
   ]
  },
  {
   "cell_type": "code",
   "execution_count": 49,
   "metadata": {
    "id": "SJv-VzAa8liR"
   },
   "outputs": [],
   "source": [
    "# Challenge 1\n",
    "# Let's delete our family dictionary\n",
    "#\n",
    "del myfamily"
   ]
  },
  {
   "cell_type": "code",
   "execution_count": 53,
   "metadata": {
    "id": "RtPPDlUg8mdN"
   },
   "outputs": [],
   "source": [
    "# Challenge 2\n",
    "# Let's clear our anagrams dictionary\n",
    "#\n",
    "anagram_dict.clear()"
   ]
  },
  {
   "cell_type": "code",
   "execution_count": 54,
   "metadata": {
    "id": "de_1tLbS8mNr"
   },
   "outputs": [
    {
     "name": "stdout",
     "output_type": "stream",
     "text": [
      "Do you want to (1) Place a new order, (2) Update an existing order, (3) Delete an order, or (4) Exit? 1\n",
      "Enter the number of bread: 2\n",
      "Enter the number of packets of milk: 3\n",
      "The total quantity of your bread is 800 grams\n",
      "The total quantity of your milk is 1.5 litres\n",
      "Current Order Summary:\n",
      "{1: {'Item': 'Bread', 'Quantity(grams)': 800}, 2: {'Item': 'Milk', 'Quantity(litres)': 1.5}}\n",
      "Do you want to (1) Place a new order, (2) Update an existing order, (3) Delete an order, or (4) Exit? 1\n",
      "Enter the number of bread: 4\n",
      "Enter the number of packets of milk: 6\n",
      "The total quantity of your bread is 1600 grams\n",
      "The total quantity of your milk is 3.0 litres\n",
      "Current Order Summary:\n",
      "{1: {'Item': 'Bread', 'Quantity(grams)': 800}, 2: {'Item': 'Milk', 'Quantity(litres)': 1.5}, 3: {'Item': 'Bread', 'Quantity(grams)': 1600}, 4: {'Item': 'Milk', 'Quantity(litres)': 3.0}}\n",
      "Do you want to (1) Place a new order, (2) Update an existing order, (3) Delete an order, or (4) Exit? 2\n",
      "Current Orders:\n",
      "Order 1: Bread - 800\n",
      "Order 2: Milk - 1.5\n",
      "Order 3: Bread - 1600\n",
      "Order 4: Milk - 3.0\n",
      "Enter the order number to update: 4\n",
      "Enter the new quantity of milk: 3\n",
      "Updated Order Summary:\n",
      "{1: {'Item': 'Bread', 'Quantity(grams)': 800}, 2: {'Item': 'Milk', 'Quantity(litres)': 1.5}, 3: {'Item': 'Bread', 'Quantity(grams)': 1600}, 4: {'Item': 'Milk', 'Quantity(litres)': 1.5}}\n",
      "Do you want to (1) Place a new order, (2) Update an existing order, (3) Delete an order, or (4) Exit? 3\n",
      "Current Orders:\n",
      "Order 1: Bread - 800\n",
      "Order 2: Milk - 1.5\n",
      "Order 3: Bread - 1600\n",
      "Order 4: Milk - 1.5\n",
      "Enter the order number to delete: 4\n",
      "Order 4 has been deleted.\n",
      "Updated Order Summary:\n",
      "{1: {'Item': 'Bread', 'Quantity(grams)': 800}, 2: {'Item': 'Milk', 'Quantity(litres)': 1.5}, 3: {'Item': 'Bread', 'Quantity(grams)': 1600}}\n",
      "Do you want to (1) Place a new order, (2) Update an existing order, (3) Delete an order, or (4) Exit? 4\n",
      "Exited the order system!\n"
     ]
    }
   ],
   "source": [
    "# Challenge 3\n",
    "# Let's add another fuctionality to our Naivas Supermarket program\n",
    "# The program will be updated to request the user to whether to delete \n",
    "# any product. If so, the user should perform the deletion respectively.\n",
    "#\n",
    "bread = 400\n",
    "milk = 0.5\n",
    "\n",
    "Naivas_Items = {}\n",
    "order_number = 1\n",
    "\n",
    "def user_order(Naivas_Items, order_number, bread, milk):\n",
    "    n_bread = int(input(\"Enter the number of bread: \"))\n",
    "    n_milk = int(input(\"Enter the number of packets of milk: \"))\n",
    "\n",
    "    q_bread = n_bread * bread\n",
    "    q_milk = n_milk * milk\n",
    "\n",
    "    print(f'The total quantity of your bread is {q_bread} grams')\n",
    "    print(f'The total quantity of your milk is {q_milk} litres')\n",
    "\n",
    "    Naivas_Items[order_number] = {'Item': 'Bread', 'Quantity(grams)': q_bread}\n",
    "    order_number += 1\n",
    "    Naivas_Items[order_number] = {'Item': 'Milk', 'Quantity(litres)': q_milk}\n",
    "    order_number += 1\n",
    "    print(\"Current Order Summary:\")\n",
    "    print(Naivas_Items)\n",
    "    \n",
    "    return Naivas_Items, order_number\n",
    "\n",
    "def update_order(Naivas_Items):\n",
    "    if not Naivas_Items:\n",
    "        print(\"There are no orders to update.\")\n",
    "        return Naivas_Items\n",
    "    \n",
    "    print(\"Current Orders:\")\n",
    "    for order_id, details in Naivas_Items.items():\n",
    "        print(f\"Order {order_id}: {details['Item']} - {details.get('Quantity(grams)', details.get('Quantity(litres)', ''))}\")\n",
    "    \n",
    "    order_id = int(input(\"Enter the order number to update: \"))\n",
    "    \n",
    "    if order_id in Naivas_Items:\n",
    "        product = Naivas_Items[order_id]['Item'].lower()\n",
    "        if product == 'bread':\n",
    "            new_quantity = int(input(\"Enter the new quantity of bread: \"))\n",
    "            Naivas_Items[order_id]['Quantity(grams)'] = new_quantity * 400\n",
    "        elif product == 'milk':\n",
    "            new_quantity = int(input(\"Enter the new quantity of milk: \"))\n",
    "            Naivas_Items[order_id]['Quantity(litres)'] = new_quantity * 0.5\n",
    "        else:\n",
    "            print(\"Product not found in this order.\")\n",
    "        print(\"Updated Order Summary:\")\n",
    "        print(Naivas_Items)\n",
    "    else:\n",
    "        print(\"Invalid order number. Please try again.\")\n",
    "    \n",
    "    return Naivas_Items\n",
    "\n",
    "def delete_order(Naivas_Items):\n",
    "    if not Naivas_Items:\n",
    "        print(\"There are no orders to delete.\")\n",
    "        return Naivas_Items\n",
    "    \n",
    "    print(\"Current Orders:\")\n",
    "    for order_id, details in Naivas_Items.items():\n",
    "        print(f\"Order {order_id}: {details['Item']} - {details.get('Quantity(grams)', details.get('Quantity(litres)', ''))}\")\n",
    "    \n",
    "    order_id = int(input(\"Enter the order number to delete: \"))\n",
    "    \n",
    "    if order_id in Naivas_Items:\n",
    "        del Naivas_Items[order_id]\n",
    "        print(f\"Order {order_id} has been deleted.\")\n",
    "        print(\"Updated Order Summary:\")\n",
    "        print(Naivas_Items)\n",
    "    else:\n",
    "        print(\"Invalid order number. Please try again.\")\n",
    "    \n",
    "    return Naivas_Items\n",
    "\n",
    "\n",
    "while True:\n",
    "    action = input(\"Do you want to (1) Place a new order, (2) Update an existing order, (3) Delete an order, or (4) Exit? \")\n",
    "\n",
    "    if action == \"1\":\n",
    "        Naivas_Items, order_number = user_order(Naivas_Items, order_number, bread, milk)\n",
    "    elif action == \"2\":\n",
    "        Naivas_Items = update_order(Naivas_Items)\n",
    "    elif action == \"3\":\n",
    "        Naivas_Items = delete_order(Naivas_Items)\n",
    "    elif action == \"4\":\n",
    "        print(\"Exited the order system!\")\n",
    "        break\n",
    "    else:\n",
    "        print(\"Invalid choice. Please select a valid option.\")\n"
   ]
  },
  {
   "cell_type": "code",
   "execution_count": null,
   "metadata": {},
   "outputs": [],
   "source": []
  }
 ],
 "metadata": {
  "colab": {
   "collapsed_sections": [
    "aEqAjTGi3E3b",
    "a90lkqj_3IZr",
    "49K6mQJg7yUh",
    "UU3YIJYI3gwc",
    "7tzKw6l87-5h",
    "hzmMe5TP32ra",
    "Hp9Jaf8V8PE1",
    "50S5D_qI3kDD",
    "mqnSUp-a8I65",
    "Amb1Bsrbwx6C",
    "1OFB5fL1w6TM",
    "GDrqXhcWzs6s",
    "zN0YcqMmzwGU",
    "t3HfcEjn306L",
    "ZSQ6Uyb98jUU"
   ],
   "name": "Python Programming: Dictionaries",
   "provenance": [],
   "toc_visible": true
  },
  "kernelspec": {
   "display_name": "Python 3 (ipykernel)",
   "language": "python",
   "name": "python3"
  },
  "language_info": {
   "codemirror_mode": {
    "name": "ipython",
    "version": 3
   },
   "file_extension": ".py",
   "mimetype": "text/x-python",
   "name": "python",
   "nbconvert_exporter": "python",
   "pygments_lexer": "ipython3",
   "version": "3.7.16"
  }
 },
 "nbformat": 4,
 "nbformat_minor": 1
}
