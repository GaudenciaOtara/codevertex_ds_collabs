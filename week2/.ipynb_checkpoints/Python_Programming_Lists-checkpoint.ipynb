{
 "cells": [
  {
   "cell_type": "markdown",
   "metadata": {
    "id": "wbJA7xUzEy9k"
   },
   "source": [
    "<font color=\"green\">*To start working on this notebook, or any other notebook that we will use in the Moringa Data Science Course, we will need to save our own copy of it. We can do this by clicking File > Save a Copy in Drive. We will then be able to make edits to our own copy of this notebook.*</font>"
   ]
  },
  {
   "cell_type": "markdown",
   "metadata": {
    "id": "gaWkCnZQ5Sbx"
   },
   "source": [
    "# Python Programming: Lists"
   ]
  },
  {
   "cell_type": "markdown",
   "metadata": {
    "id": "YfJpi7DB5b1G"
   },
   "source": [
    "## 1.0 Creating a List"
   ]
  },
  {
   "cell_type": "code",
   "execution_count": 1,
   "metadata": {
    "id": "S1JygPfZ6_LB"
   },
   "outputs": [
    {
     "name": "stdout",
     "output_type": "stream",
     "text": [
      "['bananas', 'grapes', 'mangoes']\n"
     ]
    }
   ],
   "source": [
    "# Example 1\n",
    "# Lists can be created by placing a sequence inside square brackets.\n",
    "# They are ordered and changeable and can also contain duplicate items.\n",
    "# We will start to create a list called fruits\n",
    "#\n",
    "fruits = [\"bananas\", \"grapes\", \"mangoes\"]\n",
    "print(fruits)\n",
    "\n",
    "# In python, elements in a list are referenced using indices. Indices (singular: index) are number used to tell the position of an elment in a list. The first element in  a list is assigned an index of 0. \n",
    "# For example in the list we created, bananas is at index 0 and mangoes is at index 2. \n",
    "# Indices are very important especially when we want to update, delete or access items in a list."
   ]
  },
  {
   "cell_type": "code",
   "execution_count": 2,
   "metadata": {
    "id": "VTtUQP6zzVDw"
   },
   "outputs": [
    {
     "name": "stdout",
     "output_type": "stream",
     "text": [
      "['Victor Wanyama', 'Michael Olunga', 'McDonald Mariga']\n"
     ]
    }
   ],
   "source": [
    "# Example 2\n",
    "# We will also create a list called kenyan_football_players\n",
    "#\n",
    "kenyan_football_players = [\"Victor Wanyama\", \"Michael Olunga\", \"McDonald Mariga\"]\n",
    "print(kenyan_football_players)"
   ]
  },
  {
   "cell_type": "code",
   "execution_count": 3,
   "metadata": {
    "id": "dW9hKVZRzdJv"
   },
   "outputs": [
    {
     "name": "stdout",
     "output_type": "stream",
     "text": [
      "['Nairobi', 'Mombasa', 'Kisumu']\n"
     ]
    }
   ],
   "source": [
    "# Example 3\n",
    "# And lastly, create a list called kenyan cities\n",
    "#\n",
    "kenyan_cities = [\"Nairobi\", \"Mombasa\", \"Kisumu\"]\n",
    "print(kenyan_cities)"
   ]
  },
  {
   "cell_type": "markdown",
   "metadata": {
    "id": "m6MMTVzP76zo"
   },
   "source": [
    "### <font color=\"green\">1.1 Challenges</font>"
   ]
  },
  {
   "cell_type": "code",
   "execution_count": 23,
   "metadata": {
    "id": "0dhSpupB72TX"
   },
   "outputs": [
    {
     "name": "stdout",
     "output_type": "stream",
     "text": [
      "['Nairobi', 'Nakuru', 'Kisii']\n"
     ]
    }
   ],
   "source": [
    "# Challenge 1: \n",
    "# Let's create a list of 3 counties in Kenya and then print out the list below;\n",
    "# \n",
    "kenyan_counties=['Nairobi','Nakuru','Kisii']\n",
    "print(kenyan_counties)"
   ]
  },
  {
   "cell_type": "code",
   "execution_count": 5,
   "metadata": {
    "id": "yclsB_-Z74U6"
   },
   "outputs": [
    {
     "name": "stdout",
     "output_type": "stream",
     "text": [
      "['William Ruto', 'Yoweri Museveni', 'Paul Kagame', 'Suluhu Hassan', 'Taye Atske Selassie']\n"
     ]
    }
   ],
   "source": [
    "# Challenge 2: \n",
    "# Create a list of 5 African presidents and print out the list below;\n",
    "# \n",
    "\n",
    "african_presidents=['William Ruto','Yoweri Museveni','Paul Kagame','Suluhu Hassan','Taye Atske Selassie']\n",
    "print(african_presidents)"
   ]
  },
  {
   "cell_type": "code",
   "execution_count": 6,
   "metadata": {
    "id": "pjqd1Qqf8BRT"
   },
   "outputs": [
    {
     "name": "stdout",
     "output_type": "stream",
     "text": [
      "['Gaudencia', 'Christine', 'Mary', 'Lily', 'Judith']\n"
     ]
    }
   ],
   "source": [
    "# Challenge 3: \n",
    "# Create a list of 5 members of your moringa class and print out the list;\n",
    "#\n",
    "classmates=['Gaudencia','Christine','Mary','Lily','Judith']\n",
    "print(classmates)"
   ]
  },
  {
   "cell_type": "markdown",
   "metadata": {
    "id": "HKfD8HjY5cmv"
   },
   "source": [
    "## 1.2 Adding Elements to a List"
   ]
  },
  {
   "cell_type": "code",
   "execution_count": 7,
   "metadata": {
    "id": "TmyVQVnD7cO3"
   },
   "outputs": [
    {
     "name": "stdout",
     "output_type": "stream",
     "text": [
      "['Nairobi', 'Mombasa', 'Kisumu', 'Nakuru']\n"
     ]
    }
   ],
   "source": [
    "# Example 1\n",
    "# We use the append() item to add an element to a list as shown below:\n",
    "# Adding the city Nakuru to the kenyan_cities list \n",
    "#\n",
    "kenyan_cities.append(\"Nakuru\")\n",
    "print(kenyan_cities)"
   ]
  },
  {
   "cell_type": "code",
   "execution_count": 24,
   "metadata": {
    "id": "Ut93O1NQ0UNa"
   },
   "outputs": [
    {
     "name": "stdout",
     "output_type": "stream",
     "text": [
      "['Nairobi', 'Nakuru', 'Kisii', 'Turkana']\n"
     ]
    }
   ],
   "source": [
    "# Example 2\n",
    "# We add the county Turkana to our counties list \n",
    "# and print out the list as shown below;\n",
    "#\n",
    "kenyan_counties.append(\"Turkana\")\n",
    "print(kenyan_counties)"
   ]
  },
  {
   "cell_type": "code",
   "execution_count": 12,
   "metadata": {
    "id": "b9OWSkyh0T-N"
   },
   "outputs": [
    {
     "name": "stdout",
     "output_type": "stream",
     "text": [
      "['Victor Wanyama', 'Michael Olunga', 'McDonald Mariga', 'Francis Kahata']\n"
     ]
    }
   ],
   "source": [
    "# Example 3\n",
    "# Let's add the footballer Francis Kahata to the \n",
    "# kenyan_football_players list defined above and print out the list\n",
    "#\n",
    "kenyan_football_players.append(\"Francis Kahata\")\n",
    "print(kenyan_football_players)"
   ]
  },
  {
   "cell_type": "markdown",
   "metadata": {
    "id": "qAB7efGz8GL9"
   },
   "source": [
    "### <font color=\"green\">1.2 Challenges</font>"
   ]
  },
  {
   "cell_type": "code",
   "execution_count": 25,
   "metadata": {
    "id": "wG25-7Hp8FaS"
   },
   "outputs": [
    {
     "name": "stdout",
     "output_type": "stream",
     "text": [
      "['Nairobi', 'Nakuru', 'Kisii', 'Turkana', 'Kisumu']\n"
     ]
    }
   ],
   "source": [
    "# Challenge 1: Add a third county to the county list \n",
    "# that you defined above and then print out the list.\n",
    "# \n",
    "kenyan_counties.append(\"Kisumu\")\n",
    "print(kenyan_counties)"
   ]
  },
  {
   "cell_type": "code",
   "execution_count": 15,
   "metadata": {
    "id": "viPcTuNQ8Kmf"
   },
   "outputs": [
    {
     "name": "stdout",
     "output_type": "stream",
     "text": [
      "['William Ruto', 'Yoweri Museveni', 'Paul Kagame', 'Suluhu Hassan', 'Taye Atske Selassie', 'Omar Guelleh', 'Cyril Ramaphosa']\n"
     ]
    }
   ],
   "source": [
    "# Challenge 2: \n",
    "# Add a fifth and a sixth president to the african presidents \n",
    "# you defined above and print out the list.\n",
    "#\n",
    "african_presidents.append(\"Omar Guelleh\")\n",
    "african_presidents.append(\"Cyril Ramaphosa\")\n",
    "print(african_presidents)"
   ]
  },
  {
   "cell_type": "code",
   "execution_count": 16,
   "metadata": {
    "id": "-xXlnKSX8MeE"
   },
   "outputs": [
    {
     "name": "stdout",
     "output_type": "stream",
     "text": [
      "['Gaudencia', 'Christine', 'Mary', 'Lily', 'Judith', 'Julia', 'Kamala']\n"
     ]
    }
   ],
   "source": [
    "# Challenge 3: \n",
    "# Add two more members to the moringa class list that \n",
    "# you defined above and print out the list.\n",
    "#\n",
    "classmates.append(\"Julia\")\n",
    "classmates.append(\"Kamala\")\n",
    "print(classmates)"
   ]
  },
  {
   "cell_type": "markdown",
   "metadata": {
    "id": "p4UR_FuR5qLx"
   },
   "source": [
    "## 1.3 Updating Elements in a List"
   ]
  },
  {
   "cell_type": "code",
   "execution_count": 17,
   "metadata": {
    "id": "sOjwAQdu7q9Y"
   },
   "outputs": [
    {
     "name": "stdout",
     "output_type": "stream",
     "text": [
      "['Nairobi', 'Kwale', 'Kisumu', 'Nakuru']\n"
     ]
    }
   ],
   "source": [
    "# Example 1\n",
    "# The value of a specific item in a list can be changed by referring to the index number as shown;\n",
    "# Let's update the first element in the kenyan_cities list then print it out\n",
    "# \n",
    "kenyan_cities[1] = \"Kwale\"\n",
    "print(kenyan_cities)"
   ]
  },
  {
   "cell_type": "code",
   "execution_count": 19,
   "metadata": {
    "id": "TA8RhFajBl-P"
   },
   "outputs": [
    {
     "name": "stdout",
     "output_type": "stream",
     "text": [
      "['Victor Wanyama', 'Musa Mohammed', 'McDonald Mariga', 'Francis Kahata']\n"
     ]
    }
   ],
   "source": [
    "# Example 2\n",
    "# Let's update the second element in the kenyan_football_players \n",
    "# list with Musa Mohammed then print out the list\n",
    "#\n",
    "kenyan_football_players[1]=\"Musa Mohammed\"\n",
    "print(kenyan_football_players)"
   ]
  },
  {
   "cell_type": "code",
   "execution_count": 20,
   "metadata": {
    "id": "7OfX19kCBl1b"
   },
   "outputs": [
    {
     "name": "stdout",
     "output_type": "stream",
     "text": [
      "['Gaudencia', 'Christine', 'Otara', 'Lily', 'Judith', 'Julia', 'Kamala']\n"
     ]
    }
   ],
   "source": [
    "# Example 3\n",
    "# Let's update the third element in the moringa \n",
    "# class list with your name then print out the list\n",
    "# \n",
    "classmates[2]=\"Otara\"\n",
    "print(classmates)"
   ]
  },
  {
   "cell_type": "markdown",
   "metadata": {
    "id": "H3Z5_lcs8XNH"
   },
   "source": [
    "### <font color=\"green\">1.3 Challenges</font>"
   ]
  },
  {
   "cell_type": "code",
   "execution_count": 26,
   "metadata": {
    "id": "dVQ1NNCm8QSb"
   },
   "outputs": [
    {
     "name": "stdout",
     "output_type": "stream",
     "text": [
      "['Nairobi', 'Kericho', 'Kisii', 'Turkana', 'Kisumu']\n"
     ]
    }
   ],
   "source": [
    "# Challenge 1\n",
    "# Update the second county to the county list that \n",
    "# you defined above and then print out the list.\n",
    "# (NB: Update of choice)\n",
    "#\n",
    "kenyan_counties[1]=\"Kericho\"\n",
    "print(kenyan_counties)"
   ]
  },
  {
   "cell_type": "code",
   "execution_count": 27,
   "metadata": {
    "id": "FhFJuVjq8Ros"
   },
   "outputs": [
    {
     "name": "stdout",
     "output_type": "stream",
     "text": [
      "['William Ruto', 'Yoweri Museveni', 'Nana Akufo-Addo', 'Évariste Ndayishimiye', 'Taye Atske Selassie', 'Omar Guelleh', 'Cyril Ramaphosa']\n"
     ]
    }
   ],
   "source": [
    "# Challenge 2\n",
    "# Update the third and fourth president of the african presidents \n",
    "# list that you defined above and then print out the list.\n",
    "# (NB: Update of choice) \n",
    "#\n",
    "african_presidents[2]=\"Nana Akufo-Addo\"\n",
    "african_presidents[3]=\"Évariste Ndayishimiye\"\n",
    "\n",
    "print(african_presidents)"
   ]
  },
  {
   "cell_type": "code",
   "execution_count": 29,
   "metadata": {
    "id": "lsUfPEmI8TYI"
   },
   "outputs": [
    {
     "name": "stdout",
     "output_type": "stream",
     "text": [
      "['Olivia', 'Mia', 'Ava', 'Isabella', 'Sophia', 'Evelyn', 'Khloe']\n"
     ]
    }
   ],
   "source": [
    "# Challenge 3\n",
    "# Update all items in your class list \n",
    "# that you defined above with a new list and then print out that list. \n",
    "# \n",
    "classmates[0]=\"Olivia\"\n",
    "classmates[1]=\"Mia\"\n",
    "classmates[2]=\"Ava\"\n",
    "classmates[3]=\"Isabella\"\n",
    "classmates[4]=\"Sophia\"\n",
    "classmates[5]=\"Evelyn\"\n",
    "classmates[6]=\"Khloe\"\n",
    "\n",
    "print(classmates)"
   ]
  },
  {
   "cell_type": "markdown",
   "metadata": {
    "id": "cCvsMHqK5fUn"
   },
   "source": [
    "## 1.4 Accessing Elements from a List"
   ]
  },
  {
   "cell_type": "code",
   "execution_count": 30,
   "metadata": {
    "id": "pGn2Ei-L8lh4"
   },
   "outputs": [
    {
     "name": "stdout",
     "output_type": "stream",
     "text": [
      "bananas\n"
     ]
    }
   ],
   "source": [
    "# Example 1\n",
    "# We can access the first item in the fruits list by doing the following\n",
    "# \n",
    "fruts_first_item = fruits[0]\n",
    "print(fruts_first_item)"
   ]
  },
  {
   "cell_type": "code",
   "execution_count": 31,
   "metadata": {
    "id": "iTvwuuY219PO"
   },
   "outputs": [
    {
     "name": "stdout",
     "output_type": "stream",
     "text": [
      "Musa Mohammed\n"
     ]
    }
   ],
   "source": [
    "# Example 2\n",
    "# We can also access the 2nd item in the kenyan_football_players list by;\n",
    "#\n",
    "kenyan_football_players_second_item = kenyan_football_players[1]\n",
    "print(kenyan_football_players_second_item)"
   ]
  },
  {
   "cell_type": "code",
   "execution_count": 32,
   "metadata": {
    "id": "lVAhEI_G2IAN"
   },
   "outputs": [
    {
     "name": "stdout",
     "output_type": "stream",
     "text": [
      "McDonald Mariga\n"
     ]
    }
   ],
   "source": [
    "# Example 3\n",
    "# We can access the third item in the moringa_class list also by\n",
    "#\n",
    "kenya_football_players_second_item = kenyan_football_players[2]\n",
    "print(kenya_football_players_second_item)"
   ]
  },
  {
   "cell_type": "markdown",
   "metadata": {
    "id": "1qG1ecRh8mC9"
   },
   "source": [
    "### <font color=\"green\">1.4 Challenges</font>"
   ]
  },
  {
   "cell_type": "code",
   "execution_count": 35,
   "metadata": {
    "id": "JVE1OqDH8pEK"
   },
   "outputs": [
    {
     "name": "stdout",
     "output_type": "stream",
     "text": [
      "grapes\n"
     ]
    }
   ],
   "source": [
    "# Challenge 1\n",
    "# Let's access the second item in the fruits list below\n",
    "#\n",
    "print(fruits[1])"
   ]
  },
  {
   "cell_type": "code",
   "execution_count": 36,
   "metadata": {
    "id": "Caul6cU18o9c"
   },
   "outputs": [
    {
     "name": "stdout",
     "output_type": "stream",
     "text": [
      "Francis Kahata\n"
     ]
    }
   ],
   "source": [
    "# Challenge 2\n",
    "# Let's access the fourth item in kenyan_football_players list below\n",
    "#\n",
    "print(kenyan_football_players[3])"
   ]
  },
  {
   "cell_type": "code",
   "execution_count": 37,
   "metadata": {
    "id": "xjX0moYs8ooP"
   },
   "outputs": [
    {
     "name": "stdout",
     "output_type": "stream",
     "text": [
      "Olivia\n"
     ]
    }
   ],
   "source": [
    "# Challenge 3\n",
    "# Let's access the first item in your class list below;\n",
    "#\n",
    "print(classmates[0])"
   ]
  },
  {
   "cell_type": "markdown",
   "metadata": {
    "id": "Fs8XTeN45iFS"
   },
   "source": [
    "## 1.5 Removing Elements from a List"
   ]
  },
  {
   "cell_type": "code",
   "execution_count": 38,
   "metadata": {
    "id": "mkNRpT2k8zbi"
   },
   "outputs": [
    {
     "name": "stdout",
     "output_type": "stream",
     "text": [
      "['grapes', 'mangoes']\n"
     ]
    }
   ],
   "source": [
    "# Example 1\n",
    "# Let's remove the first item from the fruits list as shown;\n",
    "#\n",
    "fruits.remove(\"bananas\")\n",
    "print(fruits)\n"
   ]
  },
  {
   "cell_type": "code",
   "execution_count": 39,
   "metadata": {
    "id": "9EF5YrosFV5n"
   },
   "outputs": [
    {
     "name": "stdout",
     "output_type": "stream",
     "text": [
      "['Nairobi', 'Kwale', 'Nakuru']\n"
     ]
    }
   ],
   "source": [
    "# Example 2\n",
    "# Then remove the third item from the kenyan cities list as shown;\n",
    "#\n",
    "del kenyan_cities[2];\n",
    "print(kenyan_cities)"
   ]
  },
  {
   "cell_type": "code",
   "execution_count": 40,
   "metadata": {
    "id": "-zwxINb9FVvE"
   },
   "outputs": [
    {
     "name": "stdout",
     "output_type": "stream",
     "text": [
      "['Nairobi', 'Kericho', 'Kisii', 'Kisumu']\n"
     ]
    }
   ],
   "source": [
    "# Example 3\n",
    "# Let's remove the fourth item from counties list as shown;\n",
    "#\n",
    "del kenyan_counties[3];\n",
    "print(kenyan_counties)"
   ]
  },
  {
   "cell_type": "markdown",
   "metadata": {
    "id": "SJmtZJu48z-Q"
   },
   "source": [
    "### <font color=\"green\">1.5 Challenges</font>"
   ]
  },
  {
   "cell_type": "code",
   "execution_count": 41,
   "metadata": {
    "id": "d1AxSTu883KJ"
   },
   "outputs": [
    {
     "name": "stdout",
     "output_type": "stream",
     "text": [
      "['Musa Mohammed', 'McDonald Mariga', 'Francis Kahata']\n"
     ]
    }
   ],
   "source": [
    "# Challenge 1 \n",
    "# Remove the first item from the kenya_football_players list \n",
    "# and print the list\n",
    "#\n",
    "del kenyan_football_players[0];\n",
    "print(kenyan_football_players)"
   ]
  },
  {
   "cell_type": "code",
   "execution_count": 42,
   "metadata": {
    "id": "s7iTn8tf83kI"
   },
   "outputs": [
    {
     "name": "stdout",
     "output_type": "stream",
     "text": [
      "['grapes']\n"
     ]
    }
   ],
   "source": [
    "# Challenge 2\n",
    "# Remove the second item from the fruits list and print the list\n",
    "#\n",
    "del fruits[1];\n",
    "print(fruits)"
   ]
  },
  {
   "cell_type": "code",
   "execution_count": 43,
   "metadata": {
    "id": "EpEg6eWS83c4"
   },
   "outputs": [
    {
     "name": "stdout",
     "output_type": "stream",
     "text": [
      "['William Ruto', 'Yoweri Museveni', 'Nana Akufo-Addo', 'Évariste Ndayishimiye', 'Taye Atske Selassie', 'Omar Guelleh']\n"
     ]
    }
   ],
   "source": [
    "# Challenge 3 \n",
    "# Remove the last item from the african presidents list and print the list\n",
    "#\n",
    "del african_presidents[-1];\n",
    "print(african_presidents)"
   ]
  },
  {
   "cell_type": "markdown",
   "metadata": {
    "id": "QIPUN0KJ5mdp"
   },
   "source": [
    "## 1.6 Slicing a List"
   ]
  },
  {
   "cell_type": "code",
   "execution_count": 44,
   "metadata": {
    "id": "mX4ZZyjM89tX"
   },
   "outputs": [
    {
     "name": "stdout",
     "output_type": "stream",
     "text": [
      "['bananas', 'grapes', 'mangoes']\n"
     ]
    }
   ],
   "source": [
    "# Example 1\n",
    "# We can print the first two item of the fruits list by slicing and printing them as shown;\n",
    "# The syntax for slicing is start:stop\n",
    "# Start is the index at which we want to start our slice.\n",
    "# Stop is the index at which we want to stop just before finishing the slice. The slicing stops at index stop-1. For exampl, if stop is 2, then the slicing will stop at index (2-1)\n",
    "# \n",
    "fruits = [\"bananas\", \"grapes\", \"mangoes\",\"oranges\",\"pineapple\"]\n",
    "fruits1 = fruits[0:3] \n",
    "print(fruits1)\n",
    "\n"
   ]
  },
  {
   "cell_type": "code",
   "execution_count": 45,
   "metadata": {
    "id": "HjMaEseYKTG_"
   },
   "outputs": [
    {
     "name": "stdout",
     "output_type": "stream",
     "text": [
      "['mangoes', 'oranges', 'pineapple']\n"
     ]
    }
   ],
   "source": [
    "# Example 2\n",
    "# We can print the items from the 2nd item till the end by slicing and printing them as shown;\n",
    "# \n",
    "fruits2 = fruits[2:]\n",
    "print(fruits2)"
   ]
  },
  {
   "cell_type": "code",
   "execution_count": 46,
   "metadata": {
    "id": "Vx32wP6_KS8E"
   },
   "outputs": [
    {
     "name": "stdout",
     "output_type": "stream",
     "text": [
      "['bananas', 'grapes', 'mangoes']\n"
     ]
    }
   ],
   "source": [
    "# Example 3\n",
    "# We can print items from beginning of the list to the third element in the fruits list as shown;\n",
    "#\n",
    "fruits3 = fruits[:-2]\n",
    "print(fruits3)"
   ]
  },
  {
   "cell_type": "markdown",
   "metadata": {
    "id": "5WwBTWk58-Nj"
   },
   "source": [
    "### <font color=\"green\">1.6 Challenges</font>"
   ]
  },
  {
   "cell_type": "code",
   "execution_count": 49,
   "metadata": {
    "id": "aBfzUTyF9BSb"
   },
   "outputs": [
    {
     "name": "stdout",
     "output_type": "stream",
     "text": [
      "['Musa Mohammed', 'McDonald Mariga']\n"
     ]
    }
   ],
   "source": [
    "# Challenge 1 \n",
    "# Print the first two items of the kenyan_football_players list\n",
    "# \n",
    "\n",
    "print(kenyan_football_players[0:2])"
   ]
  },
  {
   "cell_type": "code",
   "execution_count": 53,
   "metadata": {
    "id": "Lrq8KFE49Bq5"
   },
   "outputs": [
    {
     "name": "stdout",
     "output_type": "stream",
     "text": [
      "['Kisii', 'Kisumu']\n"
     ]
    }
   ],
   "source": [
    "# Challenge 2 \n",
    "# Print the last two items of the counties list\n",
    "# \n",
    "print(kenyan_counties[-2:])"
   ]
  },
  {
   "cell_type": "code",
   "execution_count": 57,
   "metadata": {
    "id": "Smtu0V519Bke"
   },
   "outputs": [
    {
     "name": "stdout",
     "output_type": "stream",
     "text": [
      "['Nairobi', 'Kwale']\n"
     ]
    }
   ],
   "source": [
    "# Challenge 3 \n",
    "# Print items fron the beginning to the second items in the kenyan_cities list\n",
    "# \n",
    "\n",
    "print(kenyan_cities[0:2])"
   ]
  },
  {
   "cell_type": "code",
   "execution_count": null,
   "metadata": {},
   "outputs": [],
   "source": []
  }
 ],
 "metadata": {
  "colab": {
   "collapsed_sections": [
    "YfJpi7DB5b1G",
    "m6MMTVzP76zo",
    "HKfD8HjY5cmv",
    "qAB7efGz8GL9",
    "p4UR_FuR5qLx",
    "H3Z5_lcs8XNH",
    "cCvsMHqK5fUn",
    "1qG1ecRh8mC9",
    "Fs8XTeN45iFS",
    "SJmtZJu48z-Q",
    "QIPUN0KJ5mdp",
    "5WwBTWk58-Nj"
   ],
   "name": "Python Programming: Lists",
   "provenance": [],
   "toc_visible": true
  },
  "kernelspec": {
   "display_name": "Python 3 (ipykernel)",
   "language": "python",
   "name": "python3"
  },
  "language_info": {
   "codemirror_mode": {
    "name": "ipython",
    "version": 3
   },
   "file_extension": ".py",
   "mimetype": "text/x-python",
   "name": "python",
   "nbconvert_exporter": "python",
   "pygments_lexer": "ipython3",
   "version": "3.7.16"
  }
 },
 "nbformat": 4,
 "nbformat_minor": 1
}
